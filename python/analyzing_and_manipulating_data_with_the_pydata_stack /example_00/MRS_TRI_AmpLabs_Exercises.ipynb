{
  "cells": [
    {
      "cell_type": "markdown",
      "metadata": {
        "id": "view-in-github",
        "colab_type": "text"
      },
      "source": [
        "<a href=\"https://colab.research.google.com/github/amplabs-ai/amplabs/blob/main/python/analyzing_and_manipulating_data_with_the_pydata_stack%20/example_00/MRS_TRI_AmpLabs_Exercises.ipynb\" target=\"_parent\"><img src=\"https://colab.research.google.com/assets/colab-badge.svg\" alt=\"Open In Colab\"/></a>"
      ]
    },
    {
      "cell_type": "markdown",
      "source": [
        "#MRS - TRI AmpLabs Exercises"
      ],
      "metadata": {
        "id": "lyBgUeVKft9w"
      }
    },
    {
      "cell_type": "markdown",
      "metadata": {
        "id": "3PyEXm9ZhoT9"
      },
      "source": [
        "\n",
        "\n",
        "\n",
        "In this demo you will learn how to:\n",
        "\n",
        "1. Upload/Download various types of battery data from **AmpLabs JSON API**\n",
        "2. Perform simple filtering on battery data\n",
        "\n",
        "**Pandas** is an easy-to-use data structures and data analysis tools for the Python programming language. In Pandas, we can import data from various file formats like JSON, SQL, Microsoft Excel, etc. When working with tabular data, such as data stored in spreadsheets or databases, pandas will help you to explore, clean, and process your data. In pandas, a data table is called a **Data Frame**.\n",
        "\n",
        "Note: Pandas is built off of another library called **NumPy**. \n"
      ]
    },
    {
      "cell_type": "markdown",
      "metadata": {
        "id": "AnfdHtgbhzfP"
      },
      "source": [
        "# Key Terms\n",
        "\n",
        "**API** Application Programming Interface is a set of definitions and protocols for building and integrating application software. AmpLabs provides an API to help you access and control your data.\n",
        "\n",
        "**JavaScript Object Notation** is a lightweight data-interchange format. It is easy for humans to read and write. It is easy for machines to parse and generate. Win/Win\n",
        "\n",
        "[JSON](https://www.json.org/json-en.html) is commonly used as an output format from websites. AmpLabs provides a JSON API for your Battery Data. Records for your battery data look like the following: \n",
        "\n",
        "``` JSON\n",
        "{\n",
        "  \"detail\": \"Records Retrieved\", \n",
        "  \"records\": [\n",
        "    {\n",
        "      \"Charge_Capacity (Ah)\": 2.563, \n",
        "      \"Charge_Energy (Wh)\": 10.029, \n",
        "      \"Cycle_Index\": 1, \n",
        "      \"Discharge_Capacity (Ah)\": 2.709, \n",
        "      \"Discharge_Energy (Wh)\": 9.424, \n",
        "      \"End_Time\": null, \n",
        "      \"Max_Current (A)\": 1.496, \n",
        "      \"Max_Voltage (V)\": 4.2, \n",
        "      \"Min_Current (A)\": -1.503, \n",
        "      \"Min_Voltage (V)\": 1.999, \n",
        "      \"Start_Time\": null, \n",
        "      \"Test_Time (s)\": 14644.703\n",
        "    },\n",
        "    \"status\": 200\n",
        "}\n",
        "```\n",
        "\n",
        "**Data Frame**. A DataFrame is a 2-dimensional labeled data structure with columns of potentially different types. You can think of it like a spreadsheet or SQL table, or a dict of Series objects. It is generally the most commonly used pandas object. Like Series, DataFrame accepts many different kinds of input:\n",
        "[Dataframe](https://pandas.pydata.org/docs/reference/api/pandas.DataFrame.html)\n",
        "\n",
        "\n",
        "\n",
        "``` Python\n",
        "d = {'col1': [1, 2], 'col2': [3, 4]}\n",
        "df = pd.DataFrame(data=d)\n",
        "```"
      ]
    },
    {
      "cell_type": "code",
      "execution_count": null,
      "metadata": {
        "colab": {
          "base_uri": "https://localhost:8080/"
        },
        "id": "VHdXBt4yWO_c",
        "outputId": "215cb468-0f46-4f18-9c30-43a50a56a8f1"
      },
      "outputs": [
        {
          "output_type": "stream",
          "name": "stdout",
          "text": [
            "Requirement already satisfied: pandas in /usr/local/lib/python3.7/dist-packages (1.3.5)\n",
            "Requirement already satisfied: plotly in /usr/local/lib/python3.7/dist-packages (5.5.0)\n",
            "Collecting kaleido\n",
            "  Downloading kaleido-0.2.1-py2.py3-none-manylinux1_x86_64.whl (79.9 MB)\n",
            "\u001b[K     |████████████████████████████████| 79.9 MB 101 kB/s \n",
            "\u001b[?25hRequirement already satisfied: numpy>=1.17.3 in /usr/local/lib/python3.7/dist-packages (from pandas) (1.21.6)\n",
            "Requirement already satisfied: python-dateutil>=2.7.3 in /usr/local/lib/python3.7/dist-packages (from pandas) (2.8.2)\n",
            "Requirement already satisfied: pytz>=2017.3 in /usr/local/lib/python3.7/dist-packages (from pandas) (2022.1)\n",
            "Requirement already satisfied: six>=1.5 in /usr/local/lib/python3.7/dist-packages (from python-dateutil>=2.7.3->pandas) (1.15.0)\n",
            "Requirement already satisfied: tenacity>=6.2.0 in /usr/local/lib/python3.7/dist-packages (from plotly) (8.0.1)\n",
            "Installing collected packages: kaleido\n",
            "Successfully installed kaleido-0.2.1\n"
          ]
        }
      ],
      "source": [
        "import sys\n",
        "!{sys.executable} -m pip install pandas plotly kaleido"
      ]
    },
    {
      "cell_type": "markdown",
      "source": [
        "Import the libraries we downloaded into the Python environment"
      ],
      "metadata": {
        "id": "P2qQBN--CsAJ"
      }
    },
    {
      "cell_type": "code",
      "execution_count": null,
      "metadata": {
        "id": "sVmR6GDcim-p"
      },
      "outputs": [],
      "source": [
        "# Useful for fetching data from the web \n",
        "\n",
        "import json\n",
        "import urllib.error\n",
        "import urllib.request\n",
        "from urllib.parse import urlencode\n",
        "import requests\n",
        "import gzip\n",
        "import json\n",
        "from fileinput import filename\n",
        "import shutil\n",
        "import time\n",
        "\n",
        "# PyData Libraries\n",
        "\n",
        "import pandas as pd"
      ]
    },
    {
      "cell_type": "markdown",
      "metadata": {
        "id": "NhHMF-Qqjn2H"
      },
      "source": [
        "# Define Helper Functions\n",
        "\n",
        "The following section defines functions that will help us **read** data from and **write** data to the AmpLabs JSON API. \n",
        "\n"
      ]
    },
    {
      "cell_type": "markdown",
      "source": [
        "## Functions to help Upload Data to AmpLabs\n"
      ],
      "metadata": {
        "id": "MvKGdG_0e1Gc"
      }
    },
    {
      "cell_type": "code",
      "source": [
        "# Function that triggers the upload of a Pandas DataFrame to AmpLabs\n",
        "def upload_df_to_amplabs(user_token, cell_id, df):\n",
        "    filename = cell_id\n",
        "    print('Initializing upload...', end = '')\n",
        "    response, status = init_upload_to_amplabs(user_token, cell_id)\n",
        "    time.sleep(2)\n",
        "    if not status:\n",
        "      print('Failed.')\n",
        "      return    \n",
        "    print('Done.')\n",
        "    print('Starting upload...', end = '')\n",
        "    keep_col = ['Cycle_Index', 'Test_Time (s)', 'Current (A)', 'Voltage (V)', 'Discharge_Capacity (Ah)', 'Discharge_Energy (Wh)', 'Charge_Capacity (Ah)', 'Charge_Energy (Wh)']\n",
        "    upload_df = df[keep_col]\n",
        "    upload_df.sort_values(by=['Cycle_Index', 'Test_Time (s)'])\n",
        "    upload_df.rename(columns={'Cycle_Index': 'cycle', 'Test_Time (s)': 'test_time', 'Current (A)': 'current', 'Voltage (V)': 'voltage', 'Discharge_Capacity (Ah)':'discharge_capacity', 'Discharge_Energy (Wh)':'discharge_energy', 'Charge_Capacity (Ah)':'charge_capacity', 'Charge_Energy (Wh)':'charge_energy'}, inplace=True)\n",
        "    upload_df.to_csv(filename, index=['Cycle_Index', 'Test_Time (s)', 'Current (A)', 'Voltage (V)', 'Discharge_Capacity (Ah)', 'Discharge_Energy (Wh)', 'Charge_Capacity (Ah)', 'Charge_Energy (Wh)'])\n",
        "\n",
        "    with open(filename, 'rb') as src, gzip.open(filename + '.gz', 'wb') as dst:\n",
        "        dst.writelines(src)\n",
        "\n",
        "    url = 'https://www.amplabs.ai/upload/cells/generic'\n",
        "    data = {\"cell_id\": cell_id}\n",
        "    file = {'file': open(filename + '.gz', 'rb')}\n",
        "    headers = {\n",
        "      'Authorization': 'Bearer {}'.format(user_token)\n",
        "    }\n",
        "\n",
        "    try:\n",
        "        r = requests.post(url, files=file, data=data, headers=headers)\n",
        "        print('Done.')\n",
        "        return\n",
        "    except requests.exceptions.HTTPError as errh:\n",
        "        print(\"Http Error:\", errh)\n",
        "    except requests.exceptions.ConnectionError as errc:\n",
        "        print(\"Error Connecting:\", errc)\n",
        "    except requests.exceptions.Timeout as errt:\n",
        "        print(\"Timeout Error:\", errt)\n",
        "    except requests.exceptions.RequestException as err:\n",
        "        print(\"OOps: Something Else\", err)\n",
        "    print('Failed.')\n",
        "\n",
        "# Function used to notify AmpLbas to prepare for an upload \n",
        "def init_upload_to_amplabs(user_token, cell_id):\n",
        "    url = 'https://www.amplabs.ai/upload/cells/initialize'\n",
        "    data = {'test_type': 'cycle',\n",
        "            'file_count': '1',\n",
        "            'cell_id': cell_id\n",
        "            }\n",
        "    httprequest = urllib.request.Request(url, data=urlencode(data).encode('utf-8'), method=\"POST\")\n",
        "    httprequest.add_header(\"Authorization\", \"Bearer {}\".format(user_token))\n",
        "    try:\n",
        "        with urllib.request.urlopen(httprequest) as httpresponse:\n",
        "            response = json.loads(httpresponse.read())\n",
        "            return response, 1\n",
        "    except urllib.error.HTTPError as e:\n",
        "        return None, 0 "
      ],
      "metadata": {
        "id": "LPmi9CRuelGo"
      },
      "execution_count": null,
      "outputs": []
    },
    {
      "cell_type": "markdown",
      "source": [
        "## Functions to fetch cycle, timeseries, and meta data from AmpLabs\n"
      ],
      "metadata": {
        "id": "HrVktvDQexOG"
      }
    },
    {
      "cell_type": "code",
      "execution_count": null,
      "metadata": {
        "id": "dTr5wTzwWDSf"
      },
      "outputs": [],
      "source": [
        "# Function used to fetch cycle data from AmpLabs\n",
        "def get_amplabs_cycledata(user_token, cell_id):\n",
        "    url = 'https://www.amplabs.ai/download/cells/cycle_data_json?cell_id={}'.format(cell_id)\n",
        "    httprequest = urllib.request.Request( url, method=\"GET\")\n",
        "    httprequest.add_header(\"Authorization\", \"Bearer {}\".format(user_token))\n",
        "    try:\n",
        "        with urllib.request.urlopen(httprequest) as httpresponse:\n",
        "          response = json.loads(httpresponse.read())\n",
        "          return response, 1\n",
        "    except urllib.error.HTTPError as e:\n",
        "        print(e)\n",
        "    return None, 0\n",
        "\n",
        "# Function used to fetch timeseries data from AmpLabs\n",
        "def get_amplabs_timeseriesdata(user_token, cell_id):\n",
        "    url = 'https://www.amplabs.ai/download/cells/cycle_timeseries_json?cell_id={}'.format(cell_id)\n",
        "    httprequest = urllib.request.Request( url, method=\"GET\")\n",
        "    httprequest.add_header(\"Authorization\", \"Bearer {}\".format(user_token))\n",
        "    try:\n",
        "        with urllib.request.urlopen(httprequest) as httpresponse:\n",
        "          response = json.loads(httpresponse.read())\n",
        "          return response, 1\n",
        "    except urllib.error.HTTPError as e:\n",
        "        print(e)\n",
        "    return None, 0\n",
        "\n",
        "# Function used to fetch timeseries data from AmpLabs\n",
        "def get_amplabs_meta(user_token, cell_id):\n",
        "    url = 'https://www.amplabs.ai/cells?cell_id={}'.format(cell_id)\n",
        "    httprequest = urllib.request.Request( url, method=\"GET\")\n",
        "    httprequest.add_header(\"Authorization\", \"Bearer {}\".format(user_token))\n",
        "    try:\n",
        "        with urllib.request.urlopen(httprequest) as httpresponse:\n",
        "          response = json.loads(httpresponse.read())\n",
        "          return response, 1\n",
        "    except urllib.error.HTTPError as e:\n",
        "        print(e)\n",
        "    return None, 0"
      ]
    },
    {
      "cell_type": "markdown",
      "source": [
        "**Check your understanding**\n",
        "1. What is JSON? \n",
        "\n",
        "2. Is JSON machine readable?\n",
        "\n",
        "3. What is a GET Request?"
      ],
      "metadata": {
        "id": "e09060C2iTCm"
      }
    },
    {
      "cell_type": "code",
      "execution_count": null,
      "metadata": {
        "id": "9dUDQPga264o"
      },
      "outputs": [],
      "source": [
        "user_token = \"<token>\"\n",
        "cell_id = 'sample_cycle'"
      ]
    },
    {
      "cell_type": "code",
      "source": [
        "get_amplabs_meta(user_token, cell_id)"
      ],
      "metadata": {
        "colab": {
          "base_uri": "https://localhost:8080/"
        },
        "id": "ZOcQqd1nha1O",
        "outputId": "0b98ec16-8a74-408a-e98a-b7515f701224"
      },
      "execution_count": null,
      "outputs": [
        {
          "output_type": "execute_result",
          "data": {
            "text/plain": [
              "({'detail': 'Records Retrieved',\n",
              "  'records': [[{'ah': 0,\n",
              "     'anode': None,\n",
              "     'cathode': None,\n",
              "     'cell_id': 'sample_cycle',\n",
              "     'form_factor': None,\n",
              "     'index': 252,\n",
              "     'source': None,\n",
              "     'test': 'cycle',\n",
              "     'tester': None}]],\n",
              "  'status': 200},\n",
              " 1)"
            ]
          },
          "metadata": {},
          "execution_count": 6
        }
      ]
    },
    {
      "cell_type": "markdown",
      "source": [
        "# Fetch data and store it into a dictionary of data frames"
      ],
      "metadata": {
        "id": "GuzIa7zDPdII"
      }
    },
    {
      "cell_type": "code",
      "execution_count": null,
      "metadata": {
        "id": "sOc0VKirpTOk"
      },
      "outputs": [],
      "source": [
        "response, status = get_amplabs_timeseriesdata(user_token, cell_id)\n",
        "df = pd.DataFrame(response['records'])"
      ]
    },
    {
      "cell_type": "code",
      "execution_count": null,
      "metadata": {
        "id": "xLUUSImlwQxX",
        "colab": {
          "base_uri": "https://localhost:8080/",
          "height": 679
        },
        "outputId": "3544b26c-9e70-4015-e99f-2144f9dbd8f9"
      },
      "outputs": [
        {
          "output_type": "execute_result",
          "data": {
            "text/plain": [
              "      Cell_Temperature (C)  Charge_Capacity (Ah)  Charge_Energy (Wh)  \\\n",
              "61                    None              0.000028            0.000094   \n",
              "62                    None              0.027460            0.093377   \n",
              "63                    None              0.054897            0.186770   \n",
              "64                    None              0.082337            0.280246   \n",
              "65                    None              0.109773            0.373769   \n",
              "...                    ...                   ...                 ...   \n",
              "31910                 None             33.010162          116.274391   \n",
              "31913                 None             33.018482          116.304329   \n",
              "31921                 None             33.040409          116.383209   \n",
              "31931                 None             33.067482          116.480606   \n",
              "31937                 None             33.083633          116.538727   \n",
              "\n",
              "       Current (A)  Cycle_Index                    Date_Time  \\\n",
              "61        4.076440            2  2022-05-08T19:26:55.074261Z   \n",
              "62        9.900045            2  2022-05-08T19:27:05.075061Z   \n",
              "63        9.900078            2  2022-05-08T19:27:15.075461Z   \n",
              "64        9.899794            2  2022-05-08T19:27:25.076061Z   \n",
              "65        9.900137            2  2022-05-08T19:27:35.075961Z   \n",
              "...            ...          ...                          ...   \n",
              "31910     1.014591            5  2022-05-12T11:05:59.039861Z   \n",
              "31913     1.022742            5  2022-05-12T11:06:29.041261Z   \n",
              "31921     1.026530            5  2022-05-12T11:07:49.045461Z   \n",
              "31931     1.007761            5  2022-05-12T11:09:29.048161Z   \n",
              "31937     1.007080            5  2022-05-12T11:10:29.050461Z   \n",
              "\n",
              "       Discharge_Capacity (Ah)  Discharge_Energy (Wh)  \\\n",
              "61                         0.0                    0.0   \n",
              "62                         0.0                    0.0   \n",
              "63                         0.0                    0.0   \n",
              "64                         0.0                    0.0   \n",
              "65                         0.0                    0.0   \n",
              "...                        ...                    ...   \n",
              "31910                      0.0                    0.0   \n",
              "31913                      0.0                    0.0   \n",
              "31921                      0.0                    0.0   \n",
              "31931                      0.0                    0.0   \n",
              "31937                      0.0                    0.0   \n",
              "\n",
              "      Environment_Temperature (C)  Test_Time (s)  Voltage (V)  \n",
              "61                           None        60.1653     3.382267  \n",
              "62                           None        70.1661     3.402164  \n",
              "63                           None        80.1665     3.405151  \n",
              "64                           None        90.1671     3.407909  \n",
              "65                           None       100.1670     3.410454  \n",
              "...                           ...            ...          ...  \n",
              "31910                        None    315604.1309     3.597595  \n",
              "31913                        None    315634.1323     3.597816  \n",
              "31921                        None    315714.1365     3.597816  \n",
              "31931                        None    315814.1392     3.597706  \n",
              "31937                        None    315874.1415     3.598255  \n",
              "\n",
              "[16832 rows x 11 columns]"
            ],
            "text/html": [
              "\n",
              "  <div id=\"df-d72803d4-4f26-4ae8-a5cd-140f3f400685\">\n",
              "    <div class=\"colab-df-container\">\n",
              "      <div>\n",
              "<style scoped>\n",
              "    .dataframe tbody tr th:only-of-type {\n",
              "        vertical-align: middle;\n",
              "    }\n",
              "\n",
              "    .dataframe tbody tr th {\n",
              "        vertical-align: top;\n",
              "    }\n",
              "\n",
              "    .dataframe thead th {\n",
              "        text-align: right;\n",
              "    }\n",
              "</style>\n",
              "<table border=\"1\" class=\"dataframe\">\n",
              "  <thead>\n",
              "    <tr style=\"text-align: right;\">\n",
              "      <th></th>\n",
              "      <th>Cell_Temperature (C)</th>\n",
              "      <th>Charge_Capacity (Ah)</th>\n",
              "      <th>Charge_Energy (Wh)</th>\n",
              "      <th>Current (A)</th>\n",
              "      <th>Cycle_Index</th>\n",
              "      <th>Date_Time</th>\n",
              "      <th>Discharge_Capacity (Ah)</th>\n",
              "      <th>Discharge_Energy (Wh)</th>\n",
              "      <th>Environment_Temperature (C)</th>\n",
              "      <th>Test_Time (s)</th>\n",
              "      <th>Voltage (V)</th>\n",
              "    </tr>\n",
              "  </thead>\n",
              "  <tbody>\n",
              "    <tr>\n",
              "      <th>61</th>\n",
              "      <td>None</td>\n",
              "      <td>0.000028</td>\n",
              "      <td>0.000094</td>\n",
              "      <td>4.076440</td>\n",
              "      <td>2</td>\n",
              "      <td>2022-05-08T19:26:55.074261Z</td>\n",
              "      <td>0.0</td>\n",
              "      <td>0.0</td>\n",
              "      <td>None</td>\n",
              "      <td>60.1653</td>\n",
              "      <td>3.382267</td>\n",
              "    </tr>\n",
              "    <tr>\n",
              "      <th>62</th>\n",
              "      <td>None</td>\n",
              "      <td>0.027460</td>\n",
              "      <td>0.093377</td>\n",
              "      <td>9.900045</td>\n",
              "      <td>2</td>\n",
              "      <td>2022-05-08T19:27:05.075061Z</td>\n",
              "      <td>0.0</td>\n",
              "      <td>0.0</td>\n",
              "      <td>None</td>\n",
              "      <td>70.1661</td>\n",
              "      <td>3.402164</td>\n",
              "    </tr>\n",
              "    <tr>\n",
              "      <th>63</th>\n",
              "      <td>None</td>\n",
              "      <td>0.054897</td>\n",
              "      <td>0.186770</td>\n",
              "      <td>9.900078</td>\n",
              "      <td>2</td>\n",
              "      <td>2022-05-08T19:27:15.075461Z</td>\n",
              "      <td>0.0</td>\n",
              "      <td>0.0</td>\n",
              "      <td>None</td>\n",
              "      <td>80.1665</td>\n",
              "      <td>3.405151</td>\n",
              "    </tr>\n",
              "    <tr>\n",
              "      <th>64</th>\n",
              "      <td>None</td>\n",
              "      <td>0.082337</td>\n",
              "      <td>0.280246</td>\n",
              "      <td>9.899794</td>\n",
              "      <td>2</td>\n",
              "      <td>2022-05-08T19:27:25.076061Z</td>\n",
              "      <td>0.0</td>\n",
              "      <td>0.0</td>\n",
              "      <td>None</td>\n",
              "      <td>90.1671</td>\n",
              "      <td>3.407909</td>\n",
              "    </tr>\n",
              "    <tr>\n",
              "      <th>65</th>\n",
              "      <td>None</td>\n",
              "      <td>0.109773</td>\n",
              "      <td>0.373769</td>\n",
              "      <td>9.900137</td>\n",
              "      <td>2</td>\n",
              "      <td>2022-05-08T19:27:35.075961Z</td>\n",
              "      <td>0.0</td>\n",
              "      <td>0.0</td>\n",
              "      <td>None</td>\n",
              "      <td>100.1670</td>\n",
              "      <td>3.410454</td>\n",
              "    </tr>\n",
              "    <tr>\n",
              "      <th>...</th>\n",
              "      <td>...</td>\n",
              "      <td>...</td>\n",
              "      <td>...</td>\n",
              "      <td>...</td>\n",
              "      <td>...</td>\n",
              "      <td>...</td>\n",
              "      <td>...</td>\n",
              "      <td>...</td>\n",
              "      <td>...</td>\n",
              "      <td>...</td>\n",
              "      <td>...</td>\n",
              "    </tr>\n",
              "    <tr>\n",
              "      <th>31910</th>\n",
              "      <td>None</td>\n",
              "      <td>33.010162</td>\n",
              "      <td>116.274391</td>\n",
              "      <td>1.014591</td>\n",
              "      <td>5</td>\n",
              "      <td>2022-05-12T11:05:59.039861Z</td>\n",
              "      <td>0.0</td>\n",
              "      <td>0.0</td>\n",
              "      <td>None</td>\n",
              "      <td>315604.1309</td>\n",
              "      <td>3.597595</td>\n",
              "    </tr>\n",
              "    <tr>\n",
              "      <th>31913</th>\n",
              "      <td>None</td>\n",
              "      <td>33.018482</td>\n",
              "      <td>116.304329</td>\n",
              "      <td>1.022742</td>\n",
              "      <td>5</td>\n",
              "      <td>2022-05-12T11:06:29.041261Z</td>\n",
              "      <td>0.0</td>\n",
              "      <td>0.0</td>\n",
              "      <td>None</td>\n",
              "      <td>315634.1323</td>\n",
              "      <td>3.597816</td>\n",
              "    </tr>\n",
              "    <tr>\n",
              "      <th>31921</th>\n",
              "      <td>None</td>\n",
              "      <td>33.040409</td>\n",
              "      <td>116.383209</td>\n",
              "      <td>1.026530</td>\n",
              "      <td>5</td>\n",
              "      <td>2022-05-12T11:07:49.045461Z</td>\n",
              "      <td>0.0</td>\n",
              "      <td>0.0</td>\n",
              "      <td>None</td>\n",
              "      <td>315714.1365</td>\n",
              "      <td>3.597816</td>\n",
              "    </tr>\n",
              "    <tr>\n",
              "      <th>31931</th>\n",
              "      <td>None</td>\n",
              "      <td>33.067482</td>\n",
              "      <td>116.480606</td>\n",
              "      <td>1.007761</td>\n",
              "      <td>5</td>\n",
              "      <td>2022-05-12T11:09:29.048161Z</td>\n",
              "      <td>0.0</td>\n",
              "      <td>0.0</td>\n",
              "      <td>None</td>\n",
              "      <td>315814.1392</td>\n",
              "      <td>3.597706</td>\n",
              "    </tr>\n",
              "    <tr>\n",
              "      <th>31937</th>\n",
              "      <td>None</td>\n",
              "      <td>33.083633</td>\n",
              "      <td>116.538727</td>\n",
              "      <td>1.007080</td>\n",
              "      <td>5</td>\n",
              "      <td>2022-05-12T11:10:29.050461Z</td>\n",
              "      <td>0.0</td>\n",
              "      <td>0.0</td>\n",
              "      <td>None</td>\n",
              "      <td>315874.1415</td>\n",
              "      <td>3.598255</td>\n",
              "    </tr>\n",
              "  </tbody>\n",
              "</table>\n",
              "<p>16832 rows × 11 columns</p>\n",
              "</div>\n",
              "      <button class=\"colab-df-convert\" onclick=\"convertToInteractive('df-d72803d4-4f26-4ae8-a5cd-140f3f400685')\"\n",
              "              title=\"Convert this dataframe to an interactive table.\"\n",
              "              style=\"display:none;\">\n",
              "        \n",
              "  <svg xmlns=\"http://www.w3.org/2000/svg\" height=\"24px\"viewBox=\"0 0 24 24\"\n",
              "       width=\"24px\">\n",
              "    <path d=\"M0 0h24v24H0V0z\" fill=\"none\"/>\n",
              "    <path d=\"M18.56 5.44l.94 2.06.94-2.06 2.06-.94-2.06-.94-.94-2.06-.94 2.06-2.06.94zm-11 1L8.5 8.5l.94-2.06 2.06-.94-2.06-.94L8.5 2.5l-.94 2.06-2.06.94zm10 10l.94 2.06.94-2.06 2.06-.94-2.06-.94-.94-2.06-.94 2.06-2.06.94z\"/><path d=\"M17.41 7.96l-1.37-1.37c-.4-.4-.92-.59-1.43-.59-.52 0-1.04.2-1.43.59L10.3 9.45l-7.72 7.72c-.78.78-.78 2.05 0 2.83L4 21.41c.39.39.9.59 1.41.59.51 0 1.02-.2 1.41-.59l7.78-7.78 2.81-2.81c.8-.78.8-2.07 0-2.86zM5.41 20L4 18.59l7.72-7.72 1.47 1.35L5.41 20z\"/>\n",
              "  </svg>\n",
              "      </button>\n",
              "      \n",
              "  <style>\n",
              "    .colab-df-container {\n",
              "      display:flex;\n",
              "      flex-wrap:wrap;\n",
              "      gap: 12px;\n",
              "    }\n",
              "\n",
              "    .colab-df-convert {\n",
              "      background-color: #E8F0FE;\n",
              "      border: none;\n",
              "      border-radius: 50%;\n",
              "      cursor: pointer;\n",
              "      display: none;\n",
              "      fill: #1967D2;\n",
              "      height: 32px;\n",
              "      padding: 0 0 0 0;\n",
              "      width: 32px;\n",
              "    }\n",
              "\n",
              "    .colab-df-convert:hover {\n",
              "      background-color: #E2EBFA;\n",
              "      box-shadow: 0px 1px 2px rgba(60, 64, 67, 0.3), 0px 1px 3px 1px rgba(60, 64, 67, 0.15);\n",
              "      fill: #174EA6;\n",
              "    }\n",
              "\n",
              "    [theme=dark] .colab-df-convert {\n",
              "      background-color: #3B4455;\n",
              "      fill: #D2E3FC;\n",
              "    }\n",
              "\n",
              "    [theme=dark] .colab-df-convert:hover {\n",
              "      background-color: #434B5C;\n",
              "      box-shadow: 0px 1px 3px 1px rgba(0, 0, 0, 0.15);\n",
              "      filter: drop-shadow(0px 1px 2px rgba(0, 0, 0, 0.3));\n",
              "      fill: #FFFFFF;\n",
              "    }\n",
              "  </style>\n",
              "\n",
              "      <script>\n",
              "        const buttonEl =\n",
              "          document.querySelector('#df-d72803d4-4f26-4ae8-a5cd-140f3f400685 button.colab-df-convert');\n",
              "        buttonEl.style.display =\n",
              "          google.colab.kernel.accessAllowed ? 'block' : 'none';\n",
              "\n",
              "        async function convertToInteractive(key) {\n",
              "          const element = document.querySelector('#df-d72803d4-4f26-4ae8-a5cd-140f3f400685');\n",
              "          const dataTable =\n",
              "            await google.colab.kernel.invokeFunction('convertToInteractive',\n",
              "                                                     [key], {});\n",
              "          if (!dataTable) return;\n",
              "\n",
              "          const docLinkHtml = 'Like what you see? Visit the ' +\n",
              "            '<a target=\"_blank\" href=https://colab.research.google.com/notebooks/data_table.ipynb>data table notebook</a>'\n",
              "            + ' to learn more about interactive tables.';\n",
              "          element.innerHTML = '';\n",
              "          dataTable['output_type'] = 'display_data';\n",
              "          await google.colab.output.renderOutput(dataTable, element);\n",
              "          const docLink = document.createElement('div');\n",
              "          docLink.innerHTML = docLinkHtml;\n",
              "          element.appendChild(docLink);\n",
              "        }\n",
              "      </script>\n",
              "    </div>\n",
              "  </div>\n",
              "  "
            ]
          },
          "metadata": {},
          "execution_count": 8
        }
      ],
      "source": [
        "# Filter or make transformations here\n",
        "filter = df['Current (A)'] >= 1\n",
        "df[filter]"
      ]
    },
    {
      "cell_type": "code",
      "source": [
        "filter = df['Cycle_Index'] > 1\n",
        "df = df[filter]"
      ],
      "metadata": {
        "id": "QSNxCufEEnkt"
      },
      "execution_count": null,
      "outputs": []
    },
    {
      "cell_type": "code",
      "execution_count": null,
      "metadata": {
        "id": "2Zy_h1ln1yFH",
        "colab": {
          "base_uri": "https://localhost:8080/"
        },
        "outputId": "fd0d23e4-54ca-4005-df3e-f93a5b42e4b3"
      },
      "outputs": [
        {
          "output_type": "stream",
          "name": "stdout",
          "text": [
            "   Cell_Temperature (C)  Charge_Capacity (Ah)  Charge_Energy (Wh)  \\\n",
            "60                 None              0.000000            0.000000   \n",
            "61                 None              0.000028            0.000094   \n",
            "62                 None              0.027460            0.093377   \n",
            "63                 None              0.054897            0.186770   \n",
            "64                 None              0.082337            0.280246   \n",
            "\n",
            "    Current (A)  Cycle_Index                    Date_Time  \\\n",
            "60     0.000000            2  2022-05-08T19:26:54.912761Z   \n",
            "61     4.076440            2  2022-05-08T19:26:55.074261Z   \n",
            "62     9.900045            2  2022-05-08T19:27:05.075061Z   \n",
            "63     9.900078            2  2022-05-08T19:27:15.075461Z   \n",
            "64     9.899794            2  2022-05-08T19:27:25.076061Z   \n",
            "\n",
            "    Discharge_Capacity (Ah)  Discharge_Energy (Wh)  \\\n",
            "60                      0.0                    0.0   \n",
            "61                      0.0                    0.0   \n",
            "62                      0.0                    0.0   \n",
            "63                      0.0                    0.0   \n",
            "64                      0.0                    0.0   \n",
            "\n",
            "   Environment_Temperature (C)  Test_Time (s)  Voltage (V)  \n",
            "60                        None        60.0038     3.331757  \n",
            "61                        None        60.1653     3.382267  \n",
            "62                        None        70.1661     3.402164  \n",
            "63                        None        80.1665     3.405151  \n",
            "64                        None        90.1671     3.407909  \n"
          ]
        }
      ],
      "source": [
        "# Uploading filtered file\n",
        "new_cell_id = \"NEW_{}\".format(cell_id)\n",
        "print(df.head())"
      ]
    },
    {
      "cell_type": "code",
      "source": [
        "# response, status = get_amplabs_meta(user, new_cell_id)\n",
        "# try_counter = 0\n",
        "# while len(response['records'][0]) == 0:\n",
        "#   try_counter += 1\n",
        "#   print(\"Try Upload: \",try_counter)\n",
        "#   upload_df_to_amplabs(user, new_cell_id, df)\n",
        "#   time.sleep(2)\n",
        "#   response, status = get_amplabs_meta(user, new_cell_id)\n"
      ],
      "metadata": {
        "id": "dbR0IQWdZdIT"
      },
      "execution_count": null,
      "outputs": []
    },
    {
      "cell_type": "code",
      "source": [
        "# print(\"Successfully uploaded after {} attempt(s)\".format(try_counter))\n",
        "# get_amplabs_meta(user, new_cell_id)\n"
      ],
      "metadata": {
        "colab": {
          "base_uri": "https://localhost:8080/",
          "height": 184
        },
        "id": "-6oW81mYato1",
        "outputId": "ae934039-ba09-431f-a351-d79a5d4d93e9"
      },
      "execution_count": null,
      "outputs": [
        {
          "output_type": "error",
          "ename": "NameError",
          "evalue": "ignored",
          "traceback": [
            "\u001b[0;31m---------------------------------------------------------------------------\u001b[0m",
            "\u001b[0;31mNameError\u001b[0m                                 Traceback (most recent call last)",
            "\u001b[0;32m<ipython-input-12-2355a62aeb4c>\u001b[0m in \u001b[0;36m<module>\u001b[0;34m()\u001b[0m\n\u001b[0;32m----> 1\u001b[0;31m \u001b[0mprint\u001b[0m\u001b[0;34m(\u001b[0m\u001b[0;34m\"Successfully uploaded after {} attempt(s)\"\u001b[0m\u001b[0;34m.\u001b[0m\u001b[0mformat\u001b[0m\u001b[0;34m(\u001b[0m\u001b[0mtry_counter\u001b[0m\u001b[0;34m)\u001b[0m\u001b[0;34m)\u001b[0m\u001b[0;34m\u001b[0m\u001b[0;34m\u001b[0m\u001b[0m\n\u001b[0m\u001b[1;32m      2\u001b[0m \u001b[0mget_amplabs_meta\u001b[0m\u001b[0;34m(\u001b[0m\u001b[0muser\u001b[0m\u001b[0;34m,\u001b[0m \u001b[0mnew_cell_id\u001b[0m\u001b[0;34m)\u001b[0m\u001b[0;34m\u001b[0m\u001b[0;34m\u001b[0m\u001b[0m\n",
            "\u001b[0;31mNameError\u001b[0m: name 'try_counter' is not defined"
          ]
        }
      ]
    }
  ],
  "metadata": {
    "colab": {
      "collapsed_sections": [],
      "name": "MRS - TRI AmpLabs Exercises",
      "provenance": [],
      "include_colab_link": true
    },
    "kernelspec": {
      "display_name": "Python 3",
      "name": "python3"
    },
    "language_info": {
      "name": "python"
    }
  },
  "nbformat": 4,
  "nbformat_minor": 0
}